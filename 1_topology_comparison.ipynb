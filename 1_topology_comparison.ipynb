{
 "cells": [
  {
   "cell_type": "markdown",
   "metadata": {},
   "source": [
    "# Definition of Network topologies\n",
    "\n",
    "1. Fully Connected\n",
    "2. Small-world grown with NEAT\n",
    "3. Random-sparse\n",
    "4. Modular"
   ]
  },
  {
   "cell_type": "markdown",
   "metadata": {},
   "source": [
    "# Visualization of Topologies\n",
    "\n",
    "Connecticity Matrices of\n",
    "1. Fully Connected\n",
    "2. Small-world grown with NEAT\n",
    "3. Random-sparse\n",
    "4. Modular"
   ]
  },
  {
   "cell_type": "markdown",
   "metadata": {},
   "source": [
    "# Training on standard benchmarks\n",
    "\n",
    "1. CartPole\n",
    "2. LunarLander\n",
    "3. GridWorld\n",
    "4. (Parity)\n",
    "\n",
    "Convert to Policy Networks\n",
    "- Wrap each topology in a functional neural network:\n",
    "    - Assign inputs/outputs (e.g., first n input nodes, last m output nodes)\n",
    "    - Assign fixed or trainable activations (e.g., ReLU/Linear)\n",
    "    - Initialize edge weights (random, or shared init)\n",
    "\n",
    "Using different RL-Algorithms\n",
    "1. Value-Based\n",
    "    - DQN\n",
    "2. Policy-Based\n",
    "    - REINFORCE\n",
    "3. Actor-Critic\n",
    "    - PPO\n",
    "    - SAC\n",
    "4. Model-Based\n",
    "    - MBPO\n",
    "\n",
    "(To begin with: DQN, PPO, SAC)"
   ]
  },
  {
   "cell_type": "markdown",
   "metadata": {},
   "source": [
    "### DQN"
   ]
  },
  {
   "cell_type": "markdown",
   "metadata": {},
   "source": [
    "### PPO"
   ]
  },
  {
   "cell_type": "markdown",
   "metadata": {},
   "source": [
    "### SAC"
   ]
  },
  {
   "cell_type": "markdown",
   "metadata": {},
   "source": [
    "# Analysis of Evaluation Metrics\n",
    "\n",
    "To systematically assess the impact of network topologies:\n",
    "\n",
    "- Performance Metrics:\n",
    "    - Final Reward\n",
    "    - Learning Curves: Track cumulative rewards over episodes.\n",
    "    - Sample Efficiency: Measure rewards relative to the number of interactions.\n",
    "    - Stability: Evaluate variance across multiple training runs.\n",
    "    - Policy Robustness\n",
    "- Structural Metrics:\n",
    "    - Degree distribution\n",
    "    - Clustering Coefficient: Indicates the degree to which nodes cluster together.\n",
    "    - Average Path Length: Measures the average number of steps between nodes.\n",
    "    - Sparsity: Represents the proportion of zero-valued weights.\n",
    "    - Modularity\n",
    "- Statistical Analysis:\n",
    "    - Correlation Analysis: Determine relationships between structural and performance metrics.\n",
    "    - ANOVA: Assess differences in performance across topologies.\n",
    "    - Regression Models: Predict performance outcomes based on structural features.\n",
    "\n",
    "By analyzing how symmetry breaks through training, we might uncover what structural differentiations (e.g. modularization, edge pruning) emerge to support specialized functions.\n"
   ]
  },
  {
   "cell_type": "markdown",
   "metadata": {},
   "source": [
    "# Scaling\n",
    "\n",
    "Here think about altering the scale of the networks\n",
    "\n",
    "So instead of just 2 hidden layers, go for 3 e.g."
   ]
  }
 ],
 "metadata": {
  "language_info": {
   "name": "python"
  }
 },
 "nbformat": 4,
 "nbformat_minor": 2
}
